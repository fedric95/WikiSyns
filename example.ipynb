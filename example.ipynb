{
  "nbformat": 4,
  "nbformat_minor": 0,
  "metadata": {
    "colab": {
      "name": "example.ipynb",
      "provenance": [],
      "collapsed_sections": []
    },
    "kernelspec": {
      "name": "python3",
      "display_name": "Python 3"
    }
  },
  "cells": [
    {
      "cell_type": "code",
      "metadata": {
        "colab": {
          "base_uri": "https://localhost:8080/"
        },
        "id": "Ls6dKTrr2Vek",
        "outputId": "dd0d9f61-586b-473b-b7e3-b21433cafb2c"
      },
      "source": [
        "!git clone https://github.com/fedric95/WikiSyns.git"
      ],
      "execution_count": 1,
      "outputs": [
        {
          "output_type": "stream",
          "text": [
            "Cloning into 'WikiSyns'...\n",
            "remote: Enumerating objects: 53, done.\u001b[K\n",
            "remote: Counting objects: 100% (53/53), done.\u001b[K\n",
            "remote: Compressing objects: 100% (50/50), done.\u001b[K\n",
            "remote: Total 53 (delta 14), reused 0 (delta 0), pack-reused 0\u001b[K\n",
            "Unpacking objects: 100% (53/53), done.\n"
          ],
          "name": "stdout"
        }
      ]
    },
    {
      "cell_type": "code",
      "metadata": {
        "colab": {
          "base_uri": "https://localhost:8080/"
        },
        "id": "nG27HXfG2kc5",
        "outputId": "e6e698b1-162a-4077-d968-1c84d98ba345"
      },
      "source": [
        "cd WikiSyns"
      ],
      "execution_count": 2,
      "outputs": [
        {
          "output_type": "stream",
          "text": [
            "/content/WikiSyns\n"
          ],
          "name": "stdout"
        }
      ]
    },
    {
      "cell_type": "code",
      "metadata": {
        "colab": {
          "base_uri": "https://localhost:8080/"
        },
        "id": "CZoFhWCh2mY3",
        "outputId": "b629b0aa-b4b8-4a6f-b84b-bccdc86227b0"
      },
      "source": [
        "!pip install -r requirements.txt"
      ],
      "execution_count": 3,
      "outputs": [
        {
          "output_type": "stream",
          "text": [
            "Collecting sparqlwrapper==1.8.5\n",
            "  Downloading https://files.pythonhosted.org/packages/00/9b/443fbe06996c080ee9c1f01b04e2f683b2b07e149905f33a2397ee3b80a2/SPARQLWrapper-1.8.5-py3-none-any.whl\n",
            "Collecting rdflib>=4.0\n",
            "\u001b[?25l  Downloading https://files.pythonhosted.org/packages/d0/6b/6454aa1db753c0f8bc265a5bd5c10b5721a4bb24160fb4faf758cf6be8a1/rdflib-5.0.0-py3-none-any.whl (231kB)\n",
            "\u001b[K     |████████████████████████████████| 235kB 6.4MB/s \n",
            "\u001b[?25hRequirement already satisfied: six in /usr/local/lib/python3.6/dist-packages (from rdflib>=4.0->sparqlwrapper==1.8.5->-r requirements.txt (line 1)) (1.15.0)\n",
            "Collecting isodate\n",
            "\u001b[?25l  Downloading https://files.pythonhosted.org/packages/9b/9f/b36f7774ff5ea8e428fdcfc4bb332c39ee5b9362ddd3d40d9516a55221b2/isodate-0.6.0-py2.py3-none-any.whl (45kB)\n",
            "\u001b[K     |████████████████████████████████| 51kB 6.1MB/s \n",
            "\u001b[?25hRequirement already satisfied: pyparsing in /usr/local/lib/python3.6/dist-packages (from rdflib>=4.0->sparqlwrapper==1.8.5->-r requirements.txt (line 1)) (2.4.7)\n",
            "Installing collected packages: isodate, rdflib, sparqlwrapper\n",
            "Successfully installed isodate-0.6.0 rdflib-5.0.0 sparqlwrapper-1.8.5\n"
          ],
          "name": "stdout"
        }
      ]
    },
    {
      "cell_type": "code",
      "metadata": {
        "id": "snZcy0Ig2p2b"
      },
      "source": [
        "from WikiSyns import *\r\n",
        "\r\n",
        "\r\n",
        "wd = WikidataEntities()\r\n",
        "res = wd.get_syns(instancetype='wd:Q5107', language='en')"
      ],
      "execution_count": 4,
      "outputs": []
    },
    {
      "cell_type": "code",
      "metadata": {
        "colab": {
          "base_uri": "https://localhost:8080/",
          "height": 203
        },
        "id": "LJCul52i2WK5",
        "outputId": "a004f188-df3b-4361-b03d-7889a6495c6a"
      },
      "source": [
        "res.head()"
      ],
      "execution_count": 5,
      "outputs": [
        {
          "output_type": "execute_result",
          "data": {
            "text/html": [
              "<div>\n",
              "<style scoped>\n",
              "    .dataframe tbody tr th:only-of-type {\n",
              "        vertical-align: middle;\n",
              "    }\n",
              "\n",
              "    .dataframe tbody tr th {\n",
              "        vertical-align: top;\n",
              "    }\n",
              "\n",
              "    .dataframe thead th {\n",
              "        text-align: right;\n",
              "    }\n",
              "</style>\n",
              "<table border=\"1\" class=\"dataframe\">\n",
              "  <thead>\n",
              "    <tr style=\"text-align: right;\">\n",
              "      <th></th>\n",
              "      <th>entity</th>\n",
              "      <th>value</th>\n",
              "      <th>desc</th>\n",
              "    </tr>\n",
              "  </thead>\n",
              "  <tbody>\n",
              "    <tr>\n",
              "      <th>0</th>\n",
              "      <td>http://www.wikidata.org/entity/Q15</td>\n",
              "      <td>Africa</td>\n",
              "      <td>continent on the Earth's northern and southern...</td>\n",
              "    </tr>\n",
              "    <tr>\n",
              "      <th>1</th>\n",
              "      <td>http://www.wikidata.org/entity/Q18</td>\n",
              "      <td>South America</td>\n",
              "      <td>continent, mainly on the Earth's southwestern ...</td>\n",
              "    </tr>\n",
              "    <tr>\n",
              "      <th>2</th>\n",
              "      <td>http://www.wikidata.org/entity/Q46</td>\n",
              "      <td>Europe</td>\n",
              "      <td>continent on Earth, mainly on the northeastern...</td>\n",
              "    </tr>\n",
              "    <tr>\n",
              "      <th>3</th>\n",
              "      <td>http://www.wikidata.org/entity/Q48</td>\n",
              "      <td>Asia</td>\n",
              "      <td>continent, mainly on the Earth's northeastern ...</td>\n",
              "    </tr>\n",
              "    <tr>\n",
              "      <th>4</th>\n",
              "      <td>http://www.wikidata.org/entity/Q49</td>\n",
              "      <td>North America</td>\n",
              "      <td>continent on the Earth's northwestern quadrant</td>\n",
              "    </tr>\n",
              "  </tbody>\n",
              "</table>\n",
              "</div>"
            ],
            "text/plain": [
              "                               entity  ...                                               desc\n",
              "0  http://www.wikidata.org/entity/Q15  ...  continent on the Earth's northern and southern...\n",
              "1  http://www.wikidata.org/entity/Q18  ...  continent, mainly on the Earth's southwestern ...\n",
              "2  http://www.wikidata.org/entity/Q46  ...  continent on Earth, mainly on the northeastern...\n",
              "3  http://www.wikidata.org/entity/Q48  ...  continent, mainly on the Earth's northeastern ...\n",
              "4  http://www.wikidata.org/entity/Q49  ...     continent on the Earth's northwestern quadrant\n",
              "\n",
              "[5 rows x 3 columns]"
            ]
          },
          "metadata": {
            "tags": []
          },
          "execution_count": 5
        }
      ]
    }
  ]
}
